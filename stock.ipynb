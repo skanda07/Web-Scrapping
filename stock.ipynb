{
  "nbformat": 4,
  "nbformat_minor": 0,
  "metadata": {
    "colab": {
      "name": "stock.ipynb",
      "provenance": [],
      "collapsed_sections": [],
      "authorship_tag": "ABX9TyPV+1kVn6+x652QBn10azbN",
      "include_colab_link": true
    },
    "kernelspec": {
      "name": "python3",
      "display_name": "Python 3"
    }
  },
  "cells": [
    {
      "cell_type": "markdown",
      "metadata": {
        "id": "view-in-github",
        "colab_type": "text"
      },
      "source": [
        "<a href=\"https://colab.research.google.com/github/skanda07/Web-Scrapping/blob/main/stock.ipynb\" target=\"_parent\"><img src=\"https://colab.research.google.com/assets/colab-badge.svg\" alt=\"Open In Colab\"/></a>"
      ]
    },
    {
      "cell_type": "code",
      "metadata": {
        "colab": {
          "base_uri": "https://localhost:8080/"
        },
        "id": "D_Ohm_UqjzMY",
        "outputId": "ac850457-db60-4f27-e320-29fc0cc8df63"
      },
      "source": [
        "import bs4\n",
        "import requests\n",
        "from bs4 import BeautifulSoup\n",
        "urlfb=requests.get(\"https://finance.yahoo.com/quote/FB?p=FB\")\n",
        "urlgoog=requests.get(\"https://finance.yahoo.com/quote/GOOG?p=GOOG&.tsrc=fin-srch\")\n",
        "datafb=bs4.BeautifulSoup(urlfb.text,\"html5lib\")\n",
        "datagoog=bs4.BeautifulSoup(urlgoog.text,\"html5lib\")\n",
        "print(datafb.find_all('div',{'class':\"My(6px) Pos(r) smartphone_Mt(6px)\"})[0].find('span').text)\n",
        "print(datagoog.find_all('div',{'class':'My(6px) Pos(r) smartphone_Mt(6px)'})[0].find('span').text)"
      ],
      "execution_count": 11,
      "outputs": [
        {
          "output_type": "stream",
          "text": [
            "275.69\n",
            "1,777.44\n"
          ],
          "name": "stdout"
        }
      ]
    }
  ]
}